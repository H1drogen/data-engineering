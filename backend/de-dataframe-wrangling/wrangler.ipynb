{
 "cells": [
  {
   "cell_type": "markdown",
   "id": "136d1b9f-a489-40d6-b346-5465d10c4542",
   "metadata": {},
   "source": [
    "# Data Wrangling With Pandas\n",
    "\n",
    "## Task One - Series\n",
    "In the cell below, create a `pandas` Series that contains the populations of the top ten British cities. You can find the necessary data in `data/urban.md`. Print out the series."
   ]
  },
  {
   "cell_type": "code",
   "id": "c6c1d67a-3187-43ef-b679-0889d842925f",
   "metadata": {
    "ExecuteTime": {
     "end_time": "2024-08-06T13:33:48.710260Z",
     "start_time": "2024-08-06T13:33:48.706837Z"
    }
   },
   "source": [
    "import pandas as pd\n",
    "\n",
    "city_population = {\n",
    "    \"London\": 10803000,\n",
    "    \"Birmingham\": 2517000,\n",
    "    \"Manchester\": 2449000,\n",
    "    \"Leeds-Bradford\": 1659000,\n",
    "    \"Glasgow\": 1100000,\n",
    "    \"Liverpool\": 835000,\n",
    "    \"Southampton-Portsmouth\": 805000,\n",
    "    \"Newcastle\": 719000,\n",
    "    \"Nottingham\": 719000,\n",
    "    \"Sheffield\": 603000\n",
    "}\n",
    "population = pd.Series(city_population, name= 'population')"
   ],
   "outputs": [],
   "execution_count": 18
  },
  {
   "cell_type": "markdown",
   "id": "8aeaf839-5628-4bcd-83cc-858937bde4bb",
   "metadata": {},
   "source": [
    "Sort the series by alphabetical order creating a new series, and print it out."
   ]
  },
  {
   "cell_type": "code",
   "id": "7b15a857-5556-400d-a6eb-10c8a1d3fd90",
   "metadata": {
    "ExecuteTime": {
     "end_time": "2024-08-06T13:33:48.714978Z",
     "start_time": "2024-08-06T13:33:48.711468Z"
    }
   },
   "source": "pd.Series(city_population, name= 'population').sort_index()",
   "outputs": [
    {
     "data": {
      "text/plain": [
       "Birmingham                 2517000\n",
       "Glasgow                    1100000\n",
       "Leeds-Bradford             1659000\n",
       "Liverpool                   835000\n",
       "London                    10803000\n",
       "Manchester                 2449000\n",
       "Newcastle                   719000\n",
       "Nottingham                  719000\n",
       "Sheffield                   603000\n",
       "Southampton-Portsmouth      805000\n",
       "Name: population, dtype: int64"
      ]
     },
     "execution_count": 19,
     "metadata": {},
     "output_type": "execute_result"
    }
   ],
   "execution_count": 19
  },
  {
   "cell_type": "markdown",
   "id": "798a7761-ba93-41f1-be34-800d68aac5b7",
   "metadata": {},
   "source": [
    "Create and print a series consisting of the second half of the alphabetically-sorted series."
   ]
  },
  {
   "cell_type": "code",
   "id": "faa762ae-860e-4430-81e4-018bb3ce33c3",
   "metadata": {
    "ExecuteTime": {
     "end_time": "2024-08-06T13:33:48.724856Z",
     "start_time": "2024-08-06T13:33:48.720714Z"
    }
   },
   "source": "pd.Series(city_population, name= 'population').sort_index()",
   "outputs": [
    {
     "data": {
      "text/plain": [
       "Birmingham                 2517000\n",
       "Glasgow                    1100000\n",
       "Leeds-Bradford             1659000\n",
       "Liverpool                   835000\n",
       "London                    10803000\n",
       "Manchester                 2449000\n",
       "Newcastle                   719000\n",
       "Nottingham                  719000\n",
       "Sheffield                   603000\n",
       "Southampton-Portsmouth      805000\n",
       "Name: population, dtype: int64"
      ]
     },
     "execution_count": 20,
     "metadata": {},
     "output_type": "execute_result"
    }
   ],
   "execution_count": 20
  },
  {
   "cell_type": "markdown",
   "id": "cebc7ff0-cae4-466f-b50b-4fd4c4f89b08",
   "metadata": {},
   "source": [
    "## Task Two - Dataframes\n",
    "\n",
    "In the cell below, create two new Series for\n",
    "- the top attractions in each city\n",
    "- whether the city is a port\n",
    "- the geographical area of the city in square km\n",
    "\n",
    "From all the series, create a DataFrame than contains all the information about the cities. Include a unique id for each city. Print out the resulting dataframe."
   ]
  },
  {
   "cell_type": "code",
   "id": "7c80261c-851f-4334-9cb3-5f8d9607ea3c",
   "metadata": {
    "ExecuteTime": {
     "end_time": "2024-08-06T13:33:48.731758Z",
     "start_time": "2024-08-06T13:33:48.726174Z"
    }
   },
   "source": [
    "data = {\n",
    "    'London': 'Big Ben',\n",
    "    'Birmingham': 'Cadbury World',\n",
    "    'Manchester': 'Northcoders',\n",
    "    'Leeds-Bradford': 'Royal Armouries',\n",
    "    'Glasgow': 'Kelvingrove',\n",
    "    'Liverpool': 'Albert Dock',\n",
    "    'Southampton-Portsmouth': 'Naval Dockyard',\n",
    "    'Newcastle': 'Bigg Market',\n",
    "    'Nottingham': 'Nottingham Castle',\n",
    "    'Sheffield': 'Botanical Gardens'\n",
    "}\n",
    "top_attractions = pd.Series(data, name='Top Attraction')\n",
    "\n",
    "data = {\n",
    "    'London': 'Yes',\n",
    "    'Birmingham': 'No',\n",
    "    'Manchester': 'No',\n",
    "    'Leeds-Bradford': 'No',\n",
    "    'Glasgow': 'Yes',\n",
    "    'Liverpool': 'Yes',\n",
    "    'Southampton-Portsmouth': 'Yes',\n",
    "    'Newcastle': 'Yes',\n",
    "    'Nottingham': 'No',\n",
    "    'Sheffield': 'No'\n",
    "}\n",
    "is_port = pd.Series(data, name='Is a port?')\n",
    "\n",
    "data = {\n",
    "    'London': 1737.9,\n",
    "    'Birmingham': 598.9,\n",
    "    'Manchester': 630.3,\n",
    "    'Leeds-Bradford': 487.8,\n",
    "    'Glasgow': 368.5,\n",
    "    'Liverpool': 199.6,\n",
    "    'Southampton-Portsmouth': 192,\n",
    "    'Newcastle': 180.0,\n",
    "    'Nottingham': 176.4,\n",
    "    'Sheffield': 167.5\n",
    "}\n",
    "area_series = pd.Series(data, name='Area (square km)')\n",
    "\n",
    "df = pd.DataFrame({\n",
    "    'City': top_attractions.index,\n",
    "    'Population': population.values,\n",
    "    'Top Attraction': top_attractions.values,\n",
    "    'Is a port?': is_port.values,\n",
    "    'Area (square km)': area_series.values\n",
    "})\n",
    "\n",
    "print(df)"
   ],
   "outputs": [
    {
     "name": "stdout",
     "output_type": "stream",
     "text": [
      "                     City  Population     Top Attraction Is a port?  \\\n",
      "0                  London    10803000            Big Ben        Yes   \n",
      "1              Birmingham     2517000      Cadbury World         No   \n",
      "2              Manchester     2449000        Northcoders         No   \n",
      "3          Leeds-Bradford     1659000    Royal Armouries         No   \n",
      "4                 Glasgow     1100000        Kelvingrove        Yes   \n",
      "5               Liverpool      835000        Albert Dock        Yes   \n",
      "6  Southampton-Portsmouth      805000     Naval Dockyard        Yes   \n",
      "7               Newcastle      719000        Bigg Market        Yes   \n",
      "8              Nottingham      719000  Nottingham Castle         No   \n",
      "9               Sheffield      603000  Botanical Gardens         No   \n",
      "\n",
      "   Area (square km)  \n",
      "0            1737.9  \n",
      "1             598.9  \n",
      "2             630.3  \n",
      "3             487.8  \n",
      "4             368.5  \n",
      "5             199.6  \n",
      "6             192.0  \n",
      "7             180.0  \n",
      "8             176.4  \n",
      "9             167.5  \n"
     ]
    }
   ],
   "execution_count": 21
  },
  {
   "cell_type": "markdown",
   "id": "cbb4d52b-f811-4eb4-8cdb-9eb870802d20",
   "metadata": {},
   "source": [
    "Create and print a dataframe containing the top attractions in cities that are ports. Include only the city id and name."
   ]
  },
  {
   "cell_type": "code",
   "id": "6d5224c7-0dfe-4dbc-8768-2924018a80e9",
   "metadata": {
    "ExecuteTime": {
     "end_time": "2024-08-06T13:33:48.735172Z",
     "start_time": "2024-08-06T13:33:48.732586Z"
    }
   },
   "source": [
    "query1 = df[df['Is a port?'] == 'Yes']\n",
    "print(query1['Top Attraction'])"
   ],
   "outputs": [
    {
     "name": "stdout",
     "output_type": "stream",
     "text": [
      "0           Big Ben\n",
      "4       Kelvingrove\n",
      "5       Albert Dock\n",
      "6    Naval Dockyard\n",
      "7       Bigg Market\n",
      "Name: Top Attraction, dtype: object\n"
     ]
    }
   ],
   "execution_count": 22
  },
  {
   "cell_type": "markdown",
   "id": "167c7f46-966b-40d4-a0e1-1f1ea84bc674",
   "metadata": {},
   "source": [
    "Create a dataframe which includes all the original data plus the population densities (population per square km) for each city and order them from low density to high density."
   ]
  },
  {
   "cell_type": "code",
   "id": "726d27c9-c892-4852-80a3-723ce171c4a5",
   "metadata": {
    "ExecuteTime": {
     "end_time": "2024-08-06T13:33:48.740325Z",
     "start_time": "2024-08-06T13:33:48.736387Z"
    }
   },
   "source": [
    "df['Population Density (per square km)'] = df['Population'] / df['Area (square km)']\n",
    "print(df.sort_values('Population Density (per square km)'))"
   ],
   "outputs": [
    {
     "name": "stdout",
     "output_type": "stream",
     "text": [
      "                     City  Population     Top Attraction Is a port?  \\\n",
      "4                 Glasgow     1100000        Kelvingrove        Yes   \n",
      "3          Leeds-Bradford     1659000    Royal Armouries         No   \n",
      "9               Sheffield      603000  Botanical Gardens         No   \n",
      "2              Manchester     2449000        Northcoders         No   \n",
      "7               Newcastle      719000        Bigg Market        Yes   \n",
      "8              Nottingham      719000  Nottingham Castle         No   \n",
      "5               Liverpool      835000        Albert Dock        Yes   \n",
      "6  Southampton-Portsmouth      805000     Naval Dockyard        Yes   \n",
      "1              Birmingham     2517000      Cadbury World         No   \n",
      "0                  London    10803000            Big Ben        Yes   \n",
      "\n",
      "   Area (square km)  Population Density (per square km)  \n",
      "4             368.5                         2985.074627  \n",
      "3             487.8                         3400.984010  \n",
      "9             167.5                         3600.000000  \n",
      "2             630.3                         3885.451372  \n",
      "7             180.0                         3994.444444  \n",
      "8             176.4                         4075.963719  \n",
      "5             199.6                         4183.366733  \n",
      "6             192.0                         4192.708333  \n",
      "1             598.9                         4202.704959  \n",
      "0            1737.9                         6216.122907  \n"
     ]
    }
   ],
   "execution_count": 23
  },
  {
   "metadata": {
    "ExecuteTime": {
     "end_time": "2024-08-06T13:33:48.742333Z",
     "start_time": "2024-08-06T13:33:48.741086Z"
    }
   },
   "cell_type": "code",
   "source": "",
   "id": "4ade0db5d7f77cd1",
   "outputs": [],
   "execution_count": 23
  }
 ],
 "metadata": {
  "kernelspec": {
   "display_name": "Python 3 (ipykernel)",
   "language": "python",
   "name": "python3"
  },
  "language_info": {
   "codemirror_mode": {
    "name": "ipython",
    "version": 3
   },
   "file_extension": ".py",
   "mimetype": "text/x-python",
   "name": "python",
   "nbconvert_exporter": "python",
   "pygments_lexer": "ipython3",
   "version": "3.12.1"
  }
 },
 "nbformat": 4,
 "nbformat_minor": 5
}
